{
 "cells": [
  {
   "cell_type": "code",
   "execution_count": 0,
   "metadata": {
    "colab": {},
    "colab_type": "code",
    "id": "3YM3-zGxLa63"
   },
   "outputs": [],
   "source": [
    "import torch\n",
    "import pdb\n",
    "import torch.nn as nn\n",
    "import math\n",
    "from torch.autograd import Variable\n",
    "from torch.autograd import Function\n",
    "import time\n",
    "from torch.distributions.relaxed_bernoulli import RelaxedBernoulli,LogitRelaxedBernoulli\n",
    "import numpy as np\n",
    "\n",
    "\n",
    "def Binarize(tensor,quant_mode='det'):\n",
    "    if quant_mode=='det':\n",
    "      tensor = tensor.sign()\n",
    "      tensor[tensor==0] = 1\n",
    "      return tensor\n",
    "    else:\n",
    "        return tensor.add_(1).div_(2).add_(torch.rand(tensor.size()).add(-0.5)).clamp_(0,1).round().mul_(2).add_(-1)\n",
    "\n",
    "  \n",
    "def sampling(mu,sig):\n",
    "  x = Normal(mu,sig)\n",
    "  p = 1 - x.cdf(0)\n",
    "  return p\n",
    "\n",
    "\n",
    "\n",
    "import torch.nn._functions as tnnf\n",
    "\n",
    "\n",
    "    \n",
    "class PBinarizeLinear(nn.Linear):\n",
    "\n",
    "    def __init__(self, *kargs, **kwargs):\n",
    "        super(PBinarizeLinear, self).__init__(*kargs, **kwargs)\n",
    "\n",
    "    def forward(self, input):      \n",
    "      \n",
    "        if not hasattr(self.weight,'org'):\n",
    "            self.weight.org=self.weight.data.clone()  \n",
    "            \n",
    "        self.weight.data=Binarize(self.weight.org)\n",
    "        theta = torch.tanh(self.weight)\n",
    "\n",
    "        if input.size(1) != 784:\n",
    "          mu = nn.functional.linear(input,theta)\n",
    "          left = input**2 - (1- input**2)\n",
    "          right = theta**2 - (1-theta**2)\n",
    "          sigma = 1 - nn.functional.linear(left,right)\n",
    "        else:\n",
    "          input = torch.tanh(input)\n",
    "          mu = nn.functional.linear(input,theta)       \n",
    "          sigma = nn.functional.linear(input**2,1-(theta**2))\n",
    "        \n",
    "\n",
    "        out1 = sampling(mu,sigma)\n",
    "\n",
    "        if self.out_features==10:\n",
    "          return mu\n",
    "        else:\n",
    "          return out1\n",
    "\n",
    "\n",
    "\n",
    "class PBinarizeConv2d(nn.Conv2d):\n",
    "\n",
    "    def __init__(self, *kargs, **kwargs):\n",
    "        super(PBinarizeConv2d, self).__init__(*kargs, **kwargs)\n",
    "        \n",
    "\n",
    "    def forward(self, input):\n",
    "        if not hasattr(self.weight,'org'):\n",
    "            self.weight.org=self.weight.data.clone()  \n",
    "            \n",
    "        self.weight.data=Binarize(self.weight.org)\n",
    "        theta = torch.tanh(self.weight)\n",
    "        \n",
    "        if input.size(1) != 1:\n",
    "          mu = nn.functional.conv2d(input, theta, None, self.stride,\n",
    "                                   self.padding, self.dilation, self.groups)\n",
    "          left = input**2 - (1- input**2)\n",
    "          right = theta**2 - (1-theta**2)\n",
    "          sigma = 1 - nn.functional.conv2d(left, right, None, self.stride,\n",
    "                                   self.padding, self.dilation, self.groups)\n",
    "        else:\n",
    "          input = torch.tanh(input)\n",
    "          mu = nn.functional.conv2d(input, theta, None, self.stride,\n",
    "                                   self.padding, self.dilation, self.groups)\n",
    "          sigma = nn.functional.conv2d(input**2, 1-(theta**2), None, self.stride,\n",
    "                                   self.padding, self.dilation, self.groups)\n",
    "\n",
    "     \n",
    "        mu = nn.functional.max_pool2d(mu, 2, 2,0, 1, False,False)\n",
    "        sigma = nn.functional.max_pool2d(sigma, 2, 2,0, 1, False,False)\n",
    "                            \n",
    "        \n",
    "        out1 = sampling(mu,sigma)\n",
    "   \n",
    "        return out1\n",
    "\n",
    "    \n",
    "\n"
   ]
  },
  {
   "cell_type": "code",
   "execution_count": 0,
   "metadata": {
    "colab": {
     "base_uri": "https://localhost:8080/",
     "height": 391
    },
    "colab_type": "code",
    "id": "ggHwTvf4MRqC",
    "outputId": "b9e56d8c-b68a-43d2-c31a-d57860614ff9"
   },
   "outputs": [
    {
     "name": "stderr",
     "output_type": "stream",
     "text": [
      "\r",
      "0it [00:00, ?it/s]"
     ]
    },
    {
     "name": "stdout",
     "output_type": "stream",
     "text": [
      "Downloading http://yann.lecun.com/exdb/mnist/train-images-idx3-ubyte.gz to ../data/MNIST/raw/train-images-idx3-ubyte.gz\n"
     ]
    },
    {
     "name": "stderr",
     "output_type": "stream",
     "text": [
      "9920512it [00:08, 1209919.99it/s]                             \n"
     ]
    },
    {
     "name": "stdout",
     "output_type": "stream",
     "text": [
      "Extracting ../data/MNIST/raw/train-images-idx3-ubyte.gz\n"
     ]
    },
    {
     "name": "stderr",
     "output_type": "stream",
     "text": [
      "\r",
      "0it [00:00, ?it/s]"
     ]
    },
    {
     "name": "stdout",
     "output_type": "stream",
     "text": [
      "Downloading http://yann.lecun.com/exdb/mnist/train-labels-idx1-ubyte.gz to ../data/MNIST/raw/train-labels-idx1-ubyte.gz\n"
     ]
    },
    {
     "name": "stderr",
     "output_type": "stream",
     "text": [
      "32768it [00:00, 48703.40it/s]                           \n",
      "0it [00:00, ?it/s]"
     ]
    },
    {
     "name": "stdout",
     "output_type": "stream",
     "text": [
      "Extracting ../data/MNIST/raw/train-labels-idx1-ubyte.gz\n",
      "Downloading http://yann.lecun.com/exdb/mnist/t10k-images-idx3-ubyte.gz to ../data/MNIST/raw/t10k-images-idx3-ubyte.gz\n"
     ]
    },
    {
     "name": "stderr",
     "output_type": "stream",
     "text": [
      "1654784it [00:02, 815816.57it/s]                             \n",
      "0it [00:00, ?it/s]"
     ]
    },
    {
     "name": "stdout",
     "output_type": "stream",
     "text": [
      "Extracting ../data/MNIST/raw/t10k-images-idx3-ubyte.gz\n",
      "Downloading http://yann.lecun.com/exdb/mnist/t10k-labels-idx1-ubyte.gz to ../data/MNIST/raw/t10k-labels-idx1-ubyte.gz\n"
     ]
    },
    {
     "name": "stderr",
     "output_type": "stream",
     "text": [
      "8192it [00:00, 18347.50it/s]            \n"
     ]
    },
    {
     "name": "stdout",
     "output_type": "stream",
     "text": [
      "Extracting ../data/MNIST/raw/t10k-labels-idx1-ubyte.gz\n",
      "Processing...\n",
      "Done!\n",
      "Net(\n",
      "  (conv1): PBinarizeConv2d(1, 32, kernel_size=(3, 3), stride=(1, 1))\n",
      "  (mp1): MaxPool2d(kernel_size=2, stride=2, padding=0, dilation=1, ceil_mode=False)\n",
      "  (conv2): PBinarizeConv2d(32, 64, kernel_size=(3, 3), stride=(1, 1))\n",
      "  (mp2): MaxPool2d(kernel_size=2, stride=2, padding=0, dilation=1, ceil_mode=False)\n",
      "  (fc1): PBinarizeLinear(in_features=1600, out_features=512, bias=True)\n",
      "  (fc2): PBinarizeLinear(in_features=512, out_features=10, bias=True)\n",
      ")\n"
     ]
    }
   ],
   "source": [
    "from __future__ import print_function\n",
    "import argparse\n",
    "import torch\n",
    "import torch.nn as nn\n",
    "import torch.nn.functional as F\n",
    "import torch.optim as optim\n",
    "from torchvision import datasets, transforms\n",
    "from torch.autograd import Variable\n",
    "from tqdm import tqdm\n",
    "from torch.distributions.normal import Normal\n",
    "from torch.distributions.relaxed_bernoulli import RelaxedBernoulli\n",
    "from torch.distributions.relaxed_categorical import RelaxedOneHotCategorical\n",
    "\n",
    "from torch.distributions.categorical import Categorical\n",
    "\n",
    "torch.manual_seed(1)\n",
    "torch.cuda.manual_seed(1)\n",
    "\n",
    "\n",
    "train_loader = torch.utils.data.DataLoader(\n",
    "    datasets.MNIST('../data', train=True, download=True,\n",
    "                   transform=transforms.Compose([\n",
    "                       transforms.ToTensor(),\n",
    "                       transforms.Normalize((0.1307,), (0.3081,))\n",
    "                   ])),\n",
    "    batch_size=128, shuffle=True)\n",
    "test_loader = torch.utils.data.DataLoader(\n",
    "    datasets.MNIST('../data', train=False, transform=transforms.Compose([\n",
    "                       transforms.ToTensor(),\n",
    "                       transforms.Normalize((0.1307,), (0.3081,))\n",
    "                   ])),\n",
    "    batch_size=128, shuffle=True)\n",
    "\n",
    "\n",
    "\n",
    "\n",
    "\n",
    "# 32C3 - MP2 - 64C3 - Mp2 - 512FC - SM10c\n",
    "class Net(nn.Module):\n",
    "    def __init__(self):\n",
    "        super(Net, self).__init__()\n",
    "        \n",
    "        self.conv1 = PBinarizeConv2d(1, 32, kernel_size=3)\n",
    "        self.mp1= nn.MaxPool2d(kernel_size=2, stride=2)\n",
    "      \n",
    "        self.conv2 = PBinarizeConv2d(32, 64, kernel_size=3)\n",
    "        self.mp2= nn.MaxPool2d(kernel_size=2, stride=2)\n",
    "     \n",
    "        self.fc1 = PBinarizeLinear(1600, 512)\n",
    "   \n",
    "        self.fc2 = PBinarizeLinear(512, 10)\n",
    "\n",
    "\n",
    "  \n",
    "    def forward(self, x):\n",
    "\n",
    "        \n",
    "      x = self.conv1(x)\n",
    "      x = self.conv2(x)\n",
    "\n",
    "      x = x.view(x.size(0), -1)\n",
    "\n",
    "      x = self.fc1(x)\n",
    "\n",
    "      x = self.fc2(x)\n",
    "\n",
    "\n",
    "      return x\n",
    "  \n",
    "\n",
    "model = Net()\n",
    "\n",
    "print(model)\n",
    "\n",
    "torch.cuda.device('cuda')\n",
    "model.cuda()\n",
    "\n",
    "\n",
    "\n",
    "criterion = nn.CrossEntropyLoss()\n",
    "optimizer = optim.Adam(model.parameters(), lr=0.01)\n",
    "\n",
    "\n",
    "def train(epoch):\n",
    "    model.train()\n",
    "    \n",
    "    losses = []\n",
    "    trainloader = tqdm(train_loader)\n",
    "    \n",
    "    for batch_idx, (data, target) in enumerate(trainloader):\n",
    " \n",
    "        data, target = data.cuda(), target.cuda()\n",
    "        data, target = Variable(data), Variable(target)\n",
    "        optimizer.zero_grad()\n",
    "        output = model(data)\n",
    "        loss = criterion(output, target)\n",
    "\n",
    "#         if epoch%40==0:\n",
    "#             optimizer.param_groups[0]['lr']=optimizer.param_groups[0]['lr']*0.1\n",
    "\n",
    "\n",
    "        loss.backward()\n",
    "    \n",
    "        for p in list(model.parameters()):\n",
    "            if hasattr(p,'org'):\n",
    "                p.data.copy_(p.org)\n",
    "        optimizer.step()\n",
    "        \n",
    "        for p in list(model.parameters()):\n",
    "            if hasattr(p,'org'):\n",
    "                p.org.copy_(p.data.clamp_(-0.9,0.9))\n",
    "    \n",
    "        losses.append(loss.item())\n",
    "        trainloader.set_postfix(loss=np.mean(losses), epoch=epoch)\n",
    "\n",
    "\n",
    "loss_history = []\n",
    "acc_history = []\n",
    "\n",
    "def test():\n",
    "    model.eval()\n",
    "    test_loss = 0\n",
    "    correct = 0\n",
    "    testloader = tqdm(test_loader)\n",
    "    for data, target in testloader:\n",
    "        data, target = data.cuda(), target.cuda()\n",
    "        with torch.no_grad():\n",
    "          data = Variable(data)\n",
    "        target = Variable(target)\n",
    "        output = model(data)\n",
    "        test_loss += criterion(output, target).item() # sum up batch loss\n",
    "        pred = output.data.max(1, keepdim=True)[1] # get the index of the max log-probability\n",
    "        correct += pred.eq(target.data.view_as(pred)).cpu().sum()\n",
    "        \n",
    "        \n",
    "\n",
    "        loss = test_loss / len(test_loader.dataset)\n",
    "        acc = (100. *correct / len(test_loader.dataset)).numpy()\n",
    "\n",
    "        testloader.set_postfix(loss= loss,acc=str(acc)+'%')\n",
    "    \n",
    "    test_loss /= len(test_loader.dataset)\n",
    "    total_acc = correct.item()/len(test_loader.dataset)\n",
    "    loss_history.append(test_loss)\n",
    "    acc_history.append(total_acc)\n",
    "    \n",
    "\n",
    "\n"
   ]
  },
  {
   "cell_type": "code",
   "execution_count": 0,
   "metadata": {
    "colab": {
     "base_uri": "https://localhost:8080/",
     "height": 1751
    },
    "colab_type": "code",
    "id": "bxgRGAoMbkCf",
    "outputId": "1d9acab2-b1e0-4a60-c1ac-74e660841fad"
   },
   "outputs": [
    {
     "name": "stderr",
     "output_type": "stream",
     "text": [
      "100%|██████████| 469/469 [00:15<00:00, 30.58it/s, epoch=0, loss=9.01]\n",
      "100%|██████████| 79/79 [00:01<00:00, 44.92it/s, acc=43%, loss=0.014]\n",
      "100%|██████████| 469/469 [00:16<00:00, 25.99it/s, epoch=1, loss=4.69]\n",
      "100%|██████████| 79/79 [00:02<00:00, 34.06it/s, acc=46%, loss=0.0487]\n",
      "100%|██████████| 469/469 [00:15<00:00, 30.98it/s, epoch=2, loss=3.83]\n",
      "100%|██████████| 79/79 [00:01<00:00, 44.40it/s, acc=49%, loss=0.0184]\n",
      "100%|██████████| 469/469 [00:14<00:00, 31.65it/s, epoch=3, loss=2.28]\n",
      "100%|██████████| 79/79 [00:01<00:00, 44.59it/s, acc=24%, loss=0.0166]\n",
      "100%|██████████| 469/469 [00:15<00:00, 31.21it/s, epoch=4, loss=1.79]\n",
      "100%|██████████| 79/79 [00:01<00:00, 44.40it/s, acc=45%, loss=0.0141]\n",
      "100%|██████████| 469/469 [00:15<00:00, 30.31it/s, epoch=5, loss=1.49]\n",
      "100%|██████████| 79/79 [00:01<00:00, 43.18it/s, acc=62%, loss=0.00963]\n",
      "100%|██████████| 469/469 [00:16<00:00, 27.90it/s, epoch=6, loss=1.39]\n",
      "100%|██████████| 79/79 [00:01<00:00, 44.06it/s, acc=55%, loss=0.0122]\n",
      "100%|██████████| 469/469 [00:15<00:00, 30.95it/s, epoch=7, loss=1.22]\n",
      "100%|██████████| 79/79 [00:01<00:00, 42.99it/s, acc=65%, loss=0.0136]\n",
      "100%|██████████| 469/469 [00:15<00:00, 31.02it/s, epoch=8, loss=1.11]\n",
      "100%|██████████| 79/79 [00:01<00:00, 42.90it/s, acc=42%, loss=0.0111]\n",
      "100%|██████████| 469/469 [00:17<00:00, 27.07it/s, epoch=9, loss=1.22]\n",
      "100%|██████████| 79/79 [00:01<00:00, 44.29it/s, acc=65%, loss=0.00841]\n",
      "100%|██████████| 469/469 [00:15<00:00, 30.00it/s, epoch=10, loss=0.987]\n",
      "100%|██████████| 79/79 [00:02<00:00, 34.28it/s, acc=58%, loss=0.0104]\n",
      "100%|██████████| 469/469 [00:15<00:00, 29.36it/s, epoch=11, loss=1.04]\n",
      "100%|██████████| 79/79 [00:01<00:00, 42.53it/s, acc=77%, loss=0.00616]\n",
      "100%|██████████| 469/469 [00:15<00:00, 30.37it/s, epoch=12, loss=0.719]\n",
      "100%|██████████| 79/79 [00:01<00:00, 42.35it/s, acc=76%, loss=0.00664]\n",
      "100%|██████████| 469/469 [00:15<00:00, 30.54it/s, epoch=13, loss=0.687]\n",
      "100%|██████████| 79/79 [00:01<00:00, 44.16it/s, acc=80%, loss=0.00525]\n",
      "100%|██████████| 469/469 [00:15<00:00, 30.62it/s, epoch=14, loss=0.724]\n",
      "100%|██████████| 79/79 [00:01<00:00, 41.08it/s, acc=80%, loss=0.00501]\n",
      "100%|██████████| 469/469 [00:16<00:00, 27.64it/s, epoch=15, loss=0.673]\n",
      "100%|██████████| 79/79 [00:01<00:00, 42.61it/s, acc=82%, loss=0.00469]\n",
      "100%|██████████| 469/469 [00:15<00:00, 30.87it/s, epoch=16, loss=0.67]\n",
      "100%|██████████| 79/79 [00:01<00:00, 42.99it/s, acc=84%, loss=0.00415]\n",
      "100%|██████████| 469/469 [00:15<00:00, 30.84it/s, epoch=17, loss=0.614]\n",
      "100%|██████████| 79/79 [00:01<00:00, 43.29it/s, acc=83%, loss=0.00397]\n",
      "100%|██████████| 469/469 [00:15<00:00, 31.07it/s, epoch=18, loss=0.607]\n",
      "100%|██████████| 79/79 [00:01<00:00, 42.94it/s, acc=82%, loss=0.00456]\n",
      "100%|██████████| 469/469 [00:15<00:00, 30.71it/s, epoch=19, loss=0.574]\n",
      "100%|██████████| 79/79 [00:01<00:00, 39.78it/s, acc=83%, loss=0.00439]\n",
      "100%|██████████| 469/469 [00:16<00:00, 28.05it/s, epoch=20, loss=0.624]\n",
      "100%|██████████| 79/79 [00:01<00:00, 44.52it/s, acc=84%, loss=0.00392]\n",
      "100%|██████████| 469/469 [00:15<00:00, 30.73it/s, epoch=21, loss=0.524]\n",
      "100%|██████████| 79/79 [00:01<00:00, 43.20it/s, acc=82%, loss=0.00453]\n",
      "100%|██████████| 469/469 [00:15<00:00, 30.87it/s, epoch=22, loss=0.553]\n",
      "100%|██████████| 79/79 [00:01<00:00, 42.07it/s, acc=81%, loss=0.00433]\n",
      "100%|██████████| 469/469 [00:15<00:00, 30.78it/s, epoch=23, loss=0.611]\n",
      "100%|██████████| 79/79 [00:01<00:00, 42.43it/s, acc=77%, loss=0.00544]\n",
      "100%|██████████| 469/469 [00:16<00:00, 28.94it/s, epoch=24, loss=0.623]\n",
      "100%|██████████| 79/79 [00:02<00:00, 34.38it/s, acc=83%, loss=0.00423]\n",
      "100%|██████████| 469/469 [00:15<00:00, 30.45it/s, epoch=25, loss=0.859]\n",
      "100%|██████████| 79/79 [00:01<00:00, 42.82it/s, acc=78%, loss=0.00533]\n",
      "100%|██████████| 469/469 [00:15<00:00, 30.09it/s, epoch=26, loss=5.14]\n",
      "100%|██████████| 79/79 [00:02<00:00, 32.30it/s, acc=12%, loss=0.029]\n",
      "100%|██████████| 469/469 [00:16<00:00, 28.85it/s, epoch=27, loss=2.88]\n",
      "100%|██████████| 79/79 [00:01<00:00, 43.51it/s, acc=26%, loss=0.0198]\n",
      "100%|██████████| 469/469 [00:15<00:00, 30.88it/s, epoch=28, loss=2.51]\n",
      "100%|██████████| 79/79 [00:01<00:00, 42.90it/s, acc=29%, loss=0.0171]\n",
      "100%|██████████| 469/469 [00:16<00:00, 27.86it/s, epoch=29, loss=2.36]\n",
      "100%|██████████| 79/79 [00:01<00:00, 43.60it/s, acc=45%, loss=0.0142]\n",
      "100%|██████████| 469/469 [00:15<00:00, 30.92it/s, epoch=30, loss=2.51]\n",
      "100%|██████████| 79/79 [00:01<00:00, 44.29it/s, acc=36%, loss=0.0202]\n",
      "100%|██████████| 469/469 [00:15<00:00, 30.78it/s, epoch=31, loss=2.7]\n",
      "100%|██████████| 79/79 [00:01<00:00, 42.72it/s, acc=19%, loss=0.0214]\n",
      "100%|██████████| 469/469 [00:15<00:00, 30.65it/s, epoch=32, loss=2.88]\n",
      "100%|██████████| 79/79 [00:01<00:00, 44.10it/s, acc=30%, loss=0.021]\n",
      "100%|██████████| 469/469 [00:16<00:00, 29.29it/s, epoch=33, loss=2.62]\n",
      "100%|██████████| 79/79 [00:02<00:00, 34.35it/s, acc=18%, loss=0.0258]\n",
      "100%|██████████| 469/469 [00:15<00:00, 29.58it/s, epoch=34, loss=2.64]\n",
      "100%|██████████| 79/79 [00:01<00:00, 43.30it/s, acc=26%, loss=0.0256]\n",
      "100%|██████████| 469/469 [00:15<00:00, 30.36it/s, epoch=35, loss=2.49]\n",
      "100%|██████████| 79/79 [00:01<00:00, 42.70it/s, acc=15%, loss=0.036]\n",
      "100%|██████████| 469/469 [00:15<00:00, 30.61it/s, epoch=36, loss=2.93]\n",
      "100%|██████████| 79/79 [00:01<00:00, 42.23it/s, acc=33%, loss=0.0177]\n",
      "100%|██████████| 469/469 [00:15<00:00, 30.52it/s, epoch=37, loss=2.23]\n",
      "100%|██████████| 79/79 [00:01<00:00, 43.96it/s, acc=33%, loss=0.0192]\n",
      "100%|██████████| 469/469 [00:16<00:00, 27.65it/s, epoch=38, loss=2.83]\n",
      "100%|██████████| 79/79 [00:01<00:00, 43.96it/s, acc=29%, loss=0.0243]\n",
      "100%|██████████| 469/469 [00:15<00:00, 30.43it/s, epoch=39, loss=2.56]\n",
      "100%|██████████| 79/79 [00:01<00:00, 41.76it/s, acc=31%, loss=0.0217]\n",
      "100%|██████████| 469/469 [00:15<00:00, 30.21it/s, epoch=40, loss=2.47]\n",
      "100%|██████████| 79/79 [00:01<00:00, 42.04it/s, acc=22%, loss=0.0277]\n",
      "100%|██████████| 469/469 [00:15<00:00, 30.14it/s, epoch=41, loss=1.89]\n",
      "100%|██████████| 79/79 [00:01<00:00, 42.04it/s, acc=38%, loss=0.0168]\n",
      "100%|██████████| 469/469 [00:15<00:00, 29.57it/s, epoch=42, loss=2.29]\n",
      "100%|██████████| 79/79 [00:02<00:00, 34.20it/s, acc=22%, loss=0.0235]\n",
      "100%|██████████| 469/469 [00:16<00:00, 28.69it/s, epoch=43, loss=2.35]\n",
      "100%|██████████| 79/79 [00:01<00:00, 43.56it/s, acc=24%, loss=0.0181]\n",
      "100%|██████████| 469/469 [00:17<00:00, 26.43it/s, epoch=44, loss=2.31]\n",
      "100%|██████████| 79/79 [00:01<00:00, 43.61it/s, acc=36%, loss=0.0257]\n",
      "100%|██████████| 469/469 [00:15<00:00, 30.52it/s, epoch=45, loss=2.4]\n",
      "100%|██████████| 79/79 [00:01<00:00, 43.10it/s, acc=42%, loss=0.0197]\n",
      "100%|██████████| 469/469 [00:15<00:00, 30.44it/s, epoch=46, loss=2.38]\n",
      "100%|██████████| 79/79 [00:01<00:00, 43.30it/s, acc=40%, loss=0.0161]\n",
      "100%|██████████| 469/469 [00:16<00:00, 27.72it/s, epoch=47, loss=2.35]\n",
      "100%|██████████| 79/79 [00:01<00:00, 42.56it/s, acc=49%, loss=0.0129]\n",
      "100%|██████████| 469/469 [00:15<00:00, 30.58it/s, epoch=48, loss=2.19]\n",
      "100%|██████████| 79/79 [00:01<00:00, 43.77it/s, acc=36%, loss=0.0205]\n",
      "100%|██████████| 469/469 [00:15<00:00, 30.59it/s, epoch=49, loss=2.13]\n",
      "100%|██████████| 79/79 [00:01<00:00, 43.62it/s, acc=43%, loss=0.0177]"
     ]
    },
    {
     "name": "stdout",
     "output_type": "stream",
     "text": [
      "CPU times: user 12min 16s, sys: 1min 47s, total: 14min 4s\n",
      "Wall time: 14min 41s\n"
     ]
    },
    {
     "name": "stderr",
     "output_type": "stream",
     "text": [
      "\n"
     ]
    }
   ],
   "source": [
    "%%%time\n",
    "for epoch in range(50):\n",
    "    train(epoch)\n",
    "    test()"
   ]
  },
  {
   "cell_type": "code",
   "execution_count": 0,
   "metadata": {
    "colab": {
     "base_uri": "https://localhost:8080/",
     "height": 299
    },
    "colab_type": "code",
    "id": "i9Fc5aa0u7Oo",
    "outputId": "fe3b3da9-f2a8-4507-8866-d39892ec02f1"
   },
   "outputs": [
    {
     "name": "stdout",
     "output_type": "stream",
     "text": [
      "[0.013958904945850373, 0.04874342842102051, 0.01843232238292694, 0.016603682708740235, 0.014052955627441407, 0.009627117145061493, 0.012195648634433747, 0.013582721614837647, 0.011065136337280273, 0.008409344291687012, 0.010377195274829864, 0.006155597501993179, 0.006637647706270218, 0.0052492396235466, 0.005007599249482155, 0.004691924247145653, 0.004146372523903847, 0.003969712683558464, 0.004561911460757255, 0.004386707052588463, 0.003916682410240174, 0.004525154134631157, 0.00433081679046154, 0.005442556565999985, 0.004234751832485199, 0.005333673606812954, 0.029035067486763, 0.01984379918575287, 0.017111051845550538, 0.014150924944877625, 0.020179346346855163, 0.0214278493642807, 0.02095661551952362, 0.025787819600105285, 0.025577535629272462, 0.03603976428508759, 0.01767805837392807, 0.019228984236717223, 0.02431249406337738, 0.02167212574481964, 0.027660201978683473, 0.016831091606616975, 0.023480327582359312, 0.018084770357608797, 0.025692188239097594, 0.019735585522651672, 0.01613611238002777, 0.012925631177425385, 0.02048697395324707, 0.017736930537223815]\n",
      "[0.4327, 0.4643, 0.4984, 0.2447, 0.4591, 0.6272, 0.554, 0.6503, 0.4257, 0.6593, 0.5896, 0.777, 0.7602, 0.8043, 0.8025, 0.8204, 0.8458, 0.8369, 0.8255, 0.8351, 0.8491, 0.8212, 0.8159, 0.7788, 0.8372, 0.7823, 0.1231, 0.2633, 0.2935, 0.4593, 0.3613, 0.1967, 0.3024, 0.1858, 0.2635, 0.1565, 0.3345, 0.3322, 0.2947, 0.3172, 0.2273, 0.3821, 0.2234, 0.2415, 0.3635, 0.4295, 0.4086, 0.4968, 0.3603, 0.4373]\n"
     ]
    },
    {
     "data": {
      "text/plain": [
       "<matplotlib.legend.Legend at 0x7f206e575dd8>"
      ]
     },
     "execution_count": 5,
     "metadata": {
      "tags": []
     },
     "output_type": "execute_result"
    },
    {
     "data": {
      "image/png": "[encoded data removed]",
      "text/plain": [
       "<Figure size 864x216 with 2 Axes>"
      ]
     },
     "metadata": {
      "tags": []
     },
     "output_type": "display_data"
    }
   ],
   "source": [
    "print(loss_history)\n",
    "\n",
    "print(acc_history)\n",
    "\n",
    "\n",
    "import numpy as np\n",
    "import matplotlib.pyplot as plt\n",
    "\n",
    "f = plt.figure(figsize=(12,3))\n",
    "ax = f.add_subplot(121)\n",
    "ax.plot(acc_history,label='PBNet')\n",
    "ax.grid()\n",
    "ax.set_ylabel('Accurancy')\n",
    "ax.set_xlabel('Epochs')\n",
    "ax.legend(loc='lower right')\n",
    "\n",
    "ax2 = f.add_subplot(122)\n",
    "ax2.plot(loss_history,label='PBNet')\n",
    "ax2.grid()\n",
    "ax2.set_ylabel('Loss')\n",
    "ax2.set_xlabel('Epochs')\n",
    "ax2.legend(loc='upper right')"
   ]
  },
  {
   "cell_type": "code",
   "execution_count": 0,
   "metadata": {
    "colab": {},
    "colab_type": "code",
    "id": "kEYyrZzMZkuJ"
   },
   "outputs": [],
   "source": [
    "# # Execute this code block to install dependencies when running on colab\n",
    "try:\n",
    "    import torch\n",
    "except:\n",
    "    from os.path import exists\n",
    "    from wheel.pep425tags import get_abbr_impl, get_impl_ver, get_abi_tag\n",
    "    platform = '{}{}-{}'.format(get_abbr_impl(), get_impl_ver(), get_abi_tag())\n",
    "    cuda_output = !ldconfig -p|grep cudart.so|sed -e 's/.*\\.\\([0-9]*\\)\\.\\([0-9]*\\)$/cu\\1\\2/'\n",
    "    accelerator = cuda_output[0] if exists('/dev/nvidia0') else 'cpu'\n",
    "\n",
    "    !pip install -q http://download.pytorch.org/whl/{accelerator}/torch-1.0.0-{platform}-linux_x86_64.whl torchvision\n",
    "\n",
    "try: \n",
    "    import torchbearer\n",
    "except:\n",
    "    !pip install torchbearer\n",
    "    \n",
    "from torchbearer import Trial\n",
    "torchbearer_trial = Trial(model, optimizer, criterion, metrics=['loss', 'accuracy']).to('cuda:0')\n",
    "torchbearer_trial.with_generators(train_loader, test_generator=test_loader)\n",
    "torchbearer_trial.run(epochs=5)"
   ]
  },
  {
   "cell_type": "code",
   "execution_count": 0,
   "metadata": {
    "colab": {},
    "colab_type": "code",
    "id": "nolLSRyWisJm"
   },
   "outputs": [],
   "source": [
    "import torchbearer\n",
    "results = torchbearer_trial.evaluate(data_key=torchbearer.TEST_DATA)\n",
    "print(results)"
   ]
  },
  {
   "cell_type": "code",
   "execution_count": 0,
   "metadata": {
    "colab": {},
    "colab_type": "code",
    "id": "U5znO_ndjWgC"
   },
   "outputs": [],
   "source": []
  }
 ],
 "metadata": {
  "accelerator": "GPU",
  "colab": {
   "collapsed_sections": [],
   "name": "final_mnist_nobn.ipynb",
   "provenance": [],
   "version": "0.3.2"
  },
  "kernelspec": {
   "display_name": "Python 3",
   "language": "python",
   "name": "python3"
  },
  "language_info": {
   "codemirror_mode": {
    "name": "ipython",
    "version": 3
   },
   "file_extension": ".py",
   "mimetype": "text/x-python",
   "name": "python",
   "nbconvert_exporter": "python",
   "pygments_lexer": "ipython3",
   "version": "3.7.3"
  }
 },
 "nbformat": 4,
 "nbformat_minor": 1
}
